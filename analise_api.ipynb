{
 "cells": [
  {
   "cell_type": "code",
   "execution_count": 1,
   "metadata": {},
   "outputs": [],
   "source": [
    "import calendar\n",
    "import locale\n",
    "from datetime import datetime\n",
    "\n",
    "import pandas as pd\n",
    "import requests\n",
    "\n",
    "# Configurar localidade para português do Brasil\n",
    "locale.setlocale(locale.LC_TIME, \"Portuguese_Brazil.1252\")\n",
    "\n",
    "\n",
    "def obter_feriados_brasil(ano=2024):\n",
    "    \"\"\"\n",
    "    Retorna um DataFrame com feriados nacionais do Brasil para o ano especificado.\n",
    "    Colunas: ['date', 'localName', 'weekday', 'month_name']\n",
    "    \"\"\"\n",
    "    url = f\"https://date.nager.at/api/v3/publicholidays/{ano}/BR\"\n",
    "    response = requests.get(url)\n",
    "    feriados_json = response.json()\n",
    "\n",
    "    df = pd.DataFrame(feriados_json)\n",
    "    df[\"date\"] = pd.to_datetime(df[\"date\"])\n",
    "    df[\"weekday\"] = df[\"date\"].dt.weekday  # Segunda=0, Domingo=6\n",
    "    df[\"month_name\"] = df[\"date\"].dt.strftime(\"%B\").str.capitalize()\n",
    "    return df[[\"date\", \"localName\", \"weekday\", \"month_name\"]]\n",
    "\n",
    "\n",
    "def obter_clima_historico_rio(inicio=\"2024-01-01\", fim=\"2024-07-31\"):\n",
    "    \"\"\"\n",
    "    Retorna um DataFrame com dados históricos do clima para o Rio de Janeiro.\n",
    "    Colunas: ['date', 'weathercode', 'temp_mean', 'month', 'month_name']\n",
    "    \"\"\"\n",
    "    # Coordenadas do Rio de Janeiro\n",
    "    lat, lon = -22.9068, -43.1729\n",
    "    base_url = \"https://archive-api.open-meteo.com/v1/era5\"\n",
    "    params = {\n",
    "        \"latitude\": lat,\n",
    "        \"longitude\": lon,\n",
    "        \"start_date\": inicio,\n",
    "        \"end_date\": fim,\n",
    "        \"daily\": \"weathercode,temperature_2m_mean\",\n",
    "        \"timezone\": \"America/Sao_Paulo\",\n",
    "    }\n",
    "    response = requests.get(base_url, params=params)\n",
    "    data_json = response.json()\n",
    "\n",
    "    df = pd.DataFrame({\n",
    "        \"date\": pd.to_datetime(data_json[\"daily\"][\"time\"]),\n",
    "        \"weathercode\": data_json[\"daily\"][\"weathercode\"],\n",
    "        \"temp_mean\": data_json[\"daily\"][\"temperature_2m_mean\"],\n",
    "    })\n",
    "    df[\"month\"] = df[\"date\"].dt.month\n",
    "    df[\"month_name\"] = df[\"date\"].dt.strftime(\"%B\").str.capitalize()\n",
    "    return df\n",
    "\n",
    "\n",
    "def wmo_code_para_texto(codigo):\n",
    "    \"\"\"\n",
    "    Converte o código WMO para uma descrição textual.\n",
    "    \"\"\"\n",
    "    descricao = {\n",
    "        0: \"Céu limpo\",\n",
    "        1: \"Principalmente limpo\",\n",
    "        2: \"Parcialmente nublado\",\n",
    "        3: \"Nublado\",\n",
    "        45: \"Nevoeiro\",\n",
    "        48: \"Nevoeiro com depósito\",\n",
    "        51: \"Garoa fraca\",\n",
    "        53: \"Garoa moderada\",\n",
    "        55: \"Garoa densa\",\n",
    "        61: \"Chuva fraca\",\n",
    "        63: \"Chuva moderada\",\n",
    "        65: \"Chuva forte\",\n",
    "        # Adicione outros códigos conforme necessário\n",
    "    }\n",
    "    return descricao.get(codigo, \"Desconhecido\")\n",
    "\n",
    "\n",
    "def eh_tempo_bom_para_praia(wcode):\n",
    "    \"\"\"\n",
    "    Retorna True se o código do tempo indicar condições boas para praia (0, 1 ou 2).\n",
    "    \"\"\"\n",
    "    return wcode in [0, 1, 2]\n",
    "\n",
    "\n",
    "def imprimir_feriados(df):\n",
    "    \"\"\"\n",
    "    Imprime a lista de feriados com data e nome.\n",
    "    \"\"\"\n",
    "    for _, row in df.iterrows():\n",
    "        print(f\"- {row['date'].strftime('%d/%m/%Y')}: {row['localName']}\")\n"
   ]
  },
  {
   "cell_type": "code",
   "execution_count": 2,
   "metadata": {},
   "outputs": [],
   "source": [
    "# Obter dados de feriados e clima\n",
    "df_feriados = obter_feriados_brasil(2024)\n",
    "df_clima = obter_clima_historico_rio(\"2024-01-01\", \"2024-07-31\")"
   ]
  },
  {
   "cell_type": "code",
   "execution_count": 3,
   "metadata": {},
   "outputs": [
    {
     "name": "stdout",
     "output_type": "stream",
     "text": [
      "(1.a) Total de feriados em 2024 no Brasil:\n",
      "15\n",
      "\n",
      "(1.b) Lista de feriados em 2024:\n",
      "- 01/01/2024: Confraternização Universal\n",
      "- 12/02/2024: Carnaval\n",
      "- 13/02/2024: Carnaval\n",
      "- 29/03/2024: Sexta-feira Santa\n",
      "- 31/03/2024: Domingo de Páscoa\n",
      "- 21/04/2024: Dia de Tiradentes\n",
      "- 01/05/2024: Dia do Trabalhador\n",
      "- 30/05/2024: Corpus Christi\n",
      "- 09/07/2024: Revolução Constitucionalista de 1932\n",
      "- 07/09/2024: Dia da Independência\n",
      "- 12/10/2024: Nossa Senhora Aparecida\n",
      "- 02/11/2024: Dia de Finados\n",
      "- 15/11/2024: Proclamação da República\n",
      "- 20/11/2024: Dia da Consciência Negra\n",
      "- 25/12/2024: Natal\n"
     ]
    }
   ],
   "source": [
    "# ----------------------------------------------------------------------\n",
    "# 1) Total e lista de feriados\n",
    "# ----------------------------------------------------------------------\n",
    "print(\"(1.a) Total de feriados em 2024 no Brasil:\")\n",
    "print(len(df_feriados))\n",
    "print(\"\\n(1.b) Lista de feriados em 2024:\")\n",
    "imprimir_feriados(df_feriados)"
   ]
  },
  {
   "cell_type": "code",
   "execution_count": 99,
   "metadata": {},
   "outputs": [
    {
     "name": "stdout",
     "output_type": "stream",
     "text": [
      "\n",
      "(2.a) Mês com maior número de feriados em 2024: Novembro (com 3 feriados)\n",
      "\n",
      "(2.b) Feriados nesse mês:\n",
      "- 02/11/2024: Dia de Finados\n",
      "- 15/11/2024: Proclamação da República\n",
      "- 20/11/2024: Dia da Consciência Negra\n"
     ]
    }
   ],
   "source": [
    "# ----------------------------------------------------------------------\n",
    "# 2) Mês com maior número de feriados\n",
    "# ----------------------------------------------------------------------\n",
    "contagem_mes = df_feriados[\"month_name\"].value_counts()\n",
    "mes_mais_feriados = contagem_mes.idxmax()\n",
    "num_feriados_max = contagem_mes.max()\n",
    "print(f\"\\n(2.a) Mês com maior número de feriados em 2024: {mes_mais_feriados} (com {num_feriados_max} feriados)\")\n",
    "print(\"\\n(2.b) Feriados nesse mês:\")\n",
    "imprimir_feriados(df_feriados[df_feriados[\"month_name\"] == mes_mais_feriados])"
   ]
  },
  {
   "cell_type": "code",
   "execution_count": 100,
   "metadata": {},
   "outputs": [
    {
     "name": "stdout",
     "output_type": "stream",
     "text": [
      "\n",
      "(3.a) Feriados em dias úteis (segunda a sexta): 10\n",
      "\n",
      "(3.b) Lista de feriados em dias úteis:\n",
      "- 01/01/2024 (Segunda-feira): Confraternização Universal\n",
      "- 12/02/2024 (Segunda-feira): Carnaval\n",
      "- 13/02/2024 (Terça-feira): Carnaval\n",
      "- 29/03/2024 (Sexta-feira): Sexta-feira Santa\n",
      "- 01/05/2024 (Quarta-feira): Dia do Trabalhador\n",
      "- 30/05/2024 (Quinta-feira): Corpus Christi\n",
      "- 09/07/2024 (Terça-feira): Revolução Constitucionalista de 1932\n",
      "- 15/11/2024 (Sexta-feira): Proclamação da República\n",
      "- 20/11/2024 (Quarta-feira): Dia da Consciência Negra\n",
      "- 25/12/2024 (Quarta-feira): Natal\n"
     ]
    }
   ],
   "source": [
    "# ----------------------------------------------------------------------\n",
    "# 3) Feriados em dias úteis (segunda a sexta)\n",
    "# ----------------------------------------------------------------------\n",
    "df_feriados[\"weekday_name\"] = df_feriados[\"date\"].dt.strftime(\"%A\").str.capitalize()\n",
    "feriados_uteis = df_feriados[df_feriados[\"weekday\"] <= 4]\n",
    "print(f\"\\n(3.a) Feriados em dias úteis (segunda a sexta): {len(feriados_uteis)}\")\n",
    "print(\"\\n(3.b) Lista de feriados em dias úteis:\")\n",
    "for _, row in feriados_uteis.iterrows():\n",
    "    print(f\"- {row['date'].strftime('%d/%m/%Y')} ({row['weekday_name']}): {row['localName']}\")"
   ]
  },
  {
   "cell_type": "code",
   "execution_count": 101,
   "metadata": {},
   "outputs": [
    {
     "name": "stdout",
     "output_type": "stream",
     "text": [
      "\n",
      "(4) Temperatura média (°C) por mês (jan a jul/2024):\n",
      "    Janeiro: 26.70 °C\n",
      "    Fevereiro: 27.20 °C\n",
      "    Março: 26.42 °C\n",
      "    Abril: 25.17 °C\n",
      "    Maio: 24.99 °C\n",
      "    Junho: 22.64 °C\n",
      "    Julho: 21.11 °C\n"
     ]
    }
   ],
   "source": [
    "# ----------------------------------------------------------------------\n",
    "# 4) Temperatura média mensal (01/01/2024 a 01/08/2024)\n",
    "# ----------------------------------------------------------------------\n",
    "temp_media_mensal = (df_clima.groupby([\"month\", \"month_name\"])[\"temp_mean\"]\n",
    "                        .mean().reset_index().sort_values(\"month\"))\n",
    "print(\"\\n(4) Temperatura média (°C) por mês (jan a jul/2024):\")\n",
    "for _, row in temp_media_mensal.iterrows():\n",
    "    print(f\"    {row['month_name']}: {row['temp_mean']:.2f} °C\")\n",
    "\n"
   ]
  },
  {
   "cell_type": "code",
   "execution_count": 102,
   "metadata": {},
   "outputs": [
    {
     "name": "stdout",
     "output_type": "stream",
     "text": [
      "\n",
      "(5) Tempo predominante em cada mês (jan a jul/2024):\n",
      "    Janeiro: Chuva moderada (10 dias)\n",
      "    Fevereiro: Garoa fraca (13 dias)\n",
      "    Março: Garoa fraca (9 dias)\n",
      "    Abril: Nublado (14 dias)\n",
      "    Maio: Garoa fraca (10 dias)\n",
      "    Junho: Nublado (12 dias)\n",
      "    Julho: Nublado (12 dias)\n"
     ]
    }
   ],
   "source": [
    "# ----------------------------------------------------------------------\n",
    "# 5) Tempo predominante por mês\n",
    "# ----------------------------------------------------------------------\n",
    "tempo_predominante = (df_clima.groupby([\"month\", \"month_name\", \"weathercode\"])\n",
    "                        .size().reset_index(name=\"count\"))\n",
    "idx_max = tempo_predominante.groupby(\"month\")[\"count\"].idxmax()\n",
    "tempo_por_mes = tempo_predominante.loc[idx_max, [\"month\", \"month_name\", \"weathercode\", \"count\"]]\n",
    "tempo_por_mes[\"weather_description\"] = tempo_por_mes[\"weathercode\"].map(wmo_code_para_texto)\n",
    "tempo_por_mes = tempo_por_mes.sort_values(\"month\")\n",
    "print(\"\\n(5) Tempo predominante em cada mês (jan a jul/2024):\")\n",
    "for _, row in tempo_por_mes.iterrows():\n",
    "    print(f\"    {row['month_name']}: {row['weather_description']} ({row['count']} dias)\")\n",
    "\n"
   ]
  },
  {
   "cell_type": "code",
   "execution_count": 103,
   "metadata": {},
   "outputs": [
    {
     "name": "stdout",
     "output_type": "stream",
     "text": [
      "\n",
      "(6) Tempo e temperatura média em cada feriado (01/01/2024 a 01/08/2024):\n",
      "    2024-01-01 - Confraternização Universal: Garoa fraca, 24.90 °C\n",
      "    2024-02-12 - Carnaval: Nublado, 30.20 °C\n",
      "    2024-02-13 - Carnaval: Garoa fraca, 30.50 °C\n",
      "    2024-03-29 - Sexta-feira Santa: Chuva fraca, 25.00 °C\n",
      "    2024-03-31 - Domingo de Páscoa: Garoa moderada, 24.50 °C\n",
      "    2024-04-21 - Dia de Tiradentes: Parcialmente nublado, 23.10 °C\n",
      "    2024-05-01 - Dia do Trabalhador: Céu limpo, 28.10 °C\n",
      "    2024-05-30 - Corpus Christi: Garoa fraca, 20.80 °C\n",
      "    2024-07-09 - Revolução Constitucionalista de 1932: Garoa moderada, 21.50 °C\n"
     ]
    }
   ],
   "source": [
    "# ----------------------------------------------------------------------\n",
    "# 6) Tempo e temperatura em cada feriado (01/01/2024 a 01/08/2024)\n",
    "# ----------------------------------------------------------------------\n",
    "data_limite = pd.to_datetime(\"2024-08-01\")\n",
    "feriados_periodo = df_feriados[df_feriados[\"date\"] < data_limite]\n",
    "feriados_clima = pd.merge(feriados_periodo, df_clima, on=\"date\", how=\"left\")\n",
    "feriados_clima[\"tempo_texto\"] = feriados_clima[\"weathercode\"].apply(wmo_code_para_texto)\n",
    "print(\"\\n(6) Tempo e temperatura média em cada feriado (01/01/2024 a 01/08/2024):\")\n",
    "for _, row in feriados_clima.iterrows():\n",
    "    print(f\"    {row['date'].strftime('%Y-%m-%d')} - {row['localName']}: \"\n",
    "            f\"{row['tempo_texto']}, {row['temp_mean']:.2f} °C\")"
   ]
  },
  {
   "cell_type": "code",
   "execution_count": 104,
   "metadata": {},
   "outputs": [
    {
     "name": "stdout",
     "output_type": "stream",
     "text": [
      "\n",
      "(7) Feriados NÃO aproveitáveis em 2024:\n",
      "    2024-01-01 - Confraternização Universal: Garoa fraca, 24.90 °C\n",
      "    2024-02-12 - Carnaval: Nublado, 30.20 °C\n",
      "    2024-02-13 - Carnaval: Garoa fraca, 30.50 °C\n",
      "    2024-03-29 - Sexta-feira Santa: Chuva fraca, 25.00 °C\n",
      "    2024-03-31 - Domingo de Páscoa: Garoa moderada, 24.50 °C\n",
      "    2024-05-30 - Corpus Christi: Garoa fraca, 20.80 °C\n",
      "    2024-07-09 - Revolução Constitucionalista de 1932: Garoa moderada, 21.50 °C\n"
     ]
    }
   ],
   "source": [
    "# ----------------------------------------------------------------------\n",
    "# 7) Feriados não aproveitáveis\n",
    "# Critério: temp_mean < 20°C ou condições não favoráveis (weathercode fora de [0, 1, 2])\n",
    "# ----------------------------------------------------------------------\n",
    "def feriado_aproveitavel(row):\n",
    "    if row[\"temp_mean\"] < 20 or not eh_tempo_bom_para_praia(row[\"weathercode\"]):\n",
    "        return False\n",
    "    return True\n",
    "\n",
    "feriados_clima[\"aproveitavel\"] = feriados_clima.apply(feriado_aproveitavel, axis=1)\n",
    "nao_aproveitaveis = feriados_clima[~feriados_clima[\"aproveitavel\"]]\n",
    "if nao_aproveitaveis.empty:\n",
    "    print(\"\\n(7) Não houve feriado não aproveitável em 2024 nesse período.\")\n",
    "else:\n",
    "    print(\"\\n(7) Feriados NÃO aproveitáveis em 2024:\")\n",
    "    for _, row in nao_aproveitaveis.iterrows():\n",
    "        print(f\"    {row['date'].strftime('%Y-%m-%d')} - {row['localName']}: \"\n",
    "                f\"{row['tempo_texto']}, {row['temp_mean']:.2f} °C\")\n"
   ]
  },
  {
   "cell_type": "code",
   "execution_count": 105,
   "metadata": {},
   "outputs": [
    {
     "name": "stdout",
     "output_type": "stream",
     "text": [
      "\n",
      "(8) Feriado mais aproveitável em 2024: 2024-05-01 - Dia do Trabalhador.\n",
      "    Tempo: Céu limpo\n",
      "    Temperatura média: 28.10 °C\n"
     ]
    }
   ],
   "source": [
    "# ----------------------------------------------------------------------\n",
    "# 8) Feriado mais aproveitável (maior temp_mean dentre os aproveitáveis)\n",
    "# ----------------------------------------------------------------------\n",
    "aproveitaveis = feriados_clima[feriados_clima[\"aproveitavel\"]]\n",
    "if aproveitaveis.empty:\n",
    "    print(\"\\n(8) Não há feriado aproveitável no período analisado.\")\n",
    "else:\n",
    "    melhor_feriado = aproveitaveis.loc[aproveitaveis[\"temp_mean\"].idxmax()]\n",
    "    print(f\"\\n(8) Feriado mais aproveitável em 2024: \"\n",
    "            f\"{melhor_feriado['date'].strftime('%Y-%m-%d')} - {melhor_feriado['localName']}.\")\n",
    "    print(f\"    Tempo: {melhor_feriado['tempo_texto']}\")\n",
    "    print(f\"    Temperatura média: {melhor_feriado['temp_mean']:.2f} °C\")\n"
   ]
  }
 ],
 "metadata": {
  "kernelspec": {
   "display_name": "Python 3",
   "language": "python",
   "name": "python3"
  },
  "language_info": {
   "codemirror_mode": {
    "name": "ipython",
    "version": 3
   },
   "file_extension": ".py",
   "mimetype": "text/x-python",
   "name": "python",
   "nbconvert_exporter": "python",
   "pygments_lexer": "ipython3",
   "version": "3.12.2"
  }
 },
 "nbformat": 4,
 "nbformat_minor": 2
}
