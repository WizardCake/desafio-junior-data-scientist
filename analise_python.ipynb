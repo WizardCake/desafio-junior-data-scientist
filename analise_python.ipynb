{
  "cells": [
    {
      "cell_type": "code",
      "execution_count": null,
      "metadata": {},
      "outputs": [
        {
          "name": "stdout",
          "output_type": "stream",
          "text": [
            "Downloading: 100%|\u001b[32m██████████\u001b[0m|\n",
            "Downloading: 100%|\u001b[32m██████████\u001b[0m|\n",
            "Downloading: 100%|\u001b[32m██████████\u001b[0m|\n"
          ]
        }
      ],
      "source": [
        "import basedosdados as bd\n",
        "import pandas as pd\n",
        "\n",
        "# Consulta SQL para buscar chamados do dia 01/04/2023\n",
        "query_chamados = (\n",
        "    \"\"\"\n",
        "    SELECT\n",
        "        tb_chamado.id_chamado,\n",
        "        tb_chamado.data_inicio,\n",
        "        tb_chamado.tipo,\n",
        "        tb_chamado.id_bairro,\n",
        "        tb_bairro.nome AS bairro,\n",
        "        tb_bairro.subprefeitura\n",
        "    FROM datario.adm_central_atendimento_1746.chamado tb_chamado\n",
        "    LEFT JOIN datario.dados_mestres.bairro tb_bairro\n",
        "        ON tb_chamado.id_bairro = tb_bairro.id_bairro\n",
        "    WHERE DATE(tb_chamado.data_inicio) = '2023-04-01'\n",
        "    \"\"\"\n",
        ")\n",
        "df_1_5 = bd.read_sql(query=query_chamados, billing_project_id=\"secc-rj\")\n",
        "\n",
        "# Consulta SQL para buscar chamados de \"Perturbação do Sossego\" entre 2022 e 2024\n",
        "query_perturbacao = \"\"\"\n",
        "    SELECT\n",
        "        tb_chamado.id_chamado,\n",
        "        DATE(tb_chamado.data_inicio) AS data_inicio,\n",
        "        tb_chamado.id_subtipo\n",
        "    FROM datario.adm_central_atendimento_1746.chamado tb_chamado\n",
        "    WHERE tb_chamado.id_subtipo = '5071'\n",
        "      AND DATE(tb_chamado.data_inicio) BETWEEN '2022-01-01' AND '2024-12-31'\n",
        "\"\"\"\n",
        "\n",
        "df_6_10 = bd.read_sql(query=query_perturbacao, billing_project_id=\"secc-rj\")\n",
        "\n",
        "# Consulta SQL para buscar eventos turísticos e hoteleiros\n",
        "df_eventos = bd.read_sql(\n",
        "    query=\"SELECT * FROM `datario.turismo_fluxo_visitantes.rede_hoteleira_ocupacao_eventos`\",\n",
        "    billing_project_id=\"secc-rj\",\n",
        ")\n",
        "\n",
        "# Limpeza e preparação dos dados de eventos\n",
        "df_eventos = df_eventos.dropna(subset=[\"data_inicial\", \"data_final\"])\n",
        "df_eventos[\"data_inicial\"] = pd.to_datetime(df_eventos[\"data_inicial\"]).dt.date\n",
        "df_eventos[\"data_final\"]   = pd.to_datetime(df_eventos[\"data_final\"]).dt.date\n",
        "df_eventos = df_eventos[df_eventos[\"evento\"].isin([\"Réveillon\", \"Carnaval\", \"Rock in Rio\"])]\n",
        "\n",
        "# Criar campo com o número de dias de cada evento\n",
        "df_eventos[\"dias_evento\"] = (df_eventos[\"data_final\"] - df_eventos[\"data_inicial\"]) \\\n",
        "    .apply(lambda x: x.days) + 1\n",
        "\n",
        "# Converter a coluna data_inicio para tipo date\n",
        "df_6_10[\"data_inicio\"] = pd.to_datetime(df_6_10[\"data_inicio\"]).dt.date\n",
        "\n",
        "# Dicionário de respostas\n",
        "respostas = {}\n"
      ]
    },
    {
      "cell_type": "markdown",
      "metadata": {},
      "source": [
        "# Respostas das Perguntas 1 a 5"
      ]
    },
    {
      "cell_type": "code",
      "execution_count": 1,
      "metadata": {},
      "outputs": [
        {
          "ename": "NameError",
          "evalue": "name 'df_1_5' is not defined",
          "output_type": "error",
          "traceback": [
            "\u001b[1;31m---------------------------------------------------------------------------\u001b[0m",
            "\u001b[1;31mNameError\u001b[0m                                 Traceback (most recent call last)",
            "Cell \u001b[1;32mIn[1], line 2\u001b[0m\n\u001b[0;32m      1\u001b[0m \u001b[38;5;66;03m# Pergunta 01: Quantos chamados foram abertos no dia 01/04/2023?\u001b[39;00m\n\u001b[1;32m----> 2\u001b[0m resp_1 \u001b[38;5;241m=\u001b[39m \u001b[43mdf_1_5\u001b[49m[\u001b[38;5;124m\"\u001b[39m\u001b[38;5;124mid_chamado\u001b[39m\u001b[38;5;124m\"\u001b[39m]\u001b[38;5;241m.\u001b[39mcount()\n\u001b[0;32m      3\u001b[0m respostas[\u001b[38;5;124m\"\u001b[39m\u001b[38;5;124mpergunta_01\u001b[39m\u001b[38;5;124m\"\u001b[39m] \u001b[38;5;241m=\u001b[39m resp_1\n\u001b[0;32m      4\u001b[0m \u001b[38;5;28mprint\u001b[39m(\u001b[38;5;124mf\u001b[39m\u001b[38;5;124m'\u001b[39m\u001b[38;5;124m1) Quantos chamados foram abertos no dia 01/04/2023?\u001b[39m\u001b[38;5;130;01m\\n\u001b[39;00m\u001b[38;5;132;01m{\u001b[39;00mresp_1\u001b[38;5;132;01m}\u001b[39;00m\u001b[38;5;124m'\u001b[39m)\n",
            "\u001b[1;31mNameError\u001b[0m: name 'df_1_5' is not defined"
          ]
        }
      ],
      "source": [
        "# Pergunta 01: Quantos chamados foram abertos no dia 01/04/2023?\n",
        "resp_1 = df_1_5[\"id_chamado\"].count()\n",
        "respostas[\"pergunta_01\"] = resp_1\n",
        "print(f'1) Quantos chamados foram abertos no dia 01/04/2023?\\n{resp_1}')"
      ]
    },
    {
      "cell_type": "code",
      "execution_count": null,
      "metadata": {},
      "outputs": [
        {
          "name": "stdout",
          "output_type": "stream",
          "text": [
            "2) Qual o tipo de chamado que teve mais teve chamados abertos no dia 01/04/2023?\n",
            "\"Estacionamento irregular\" com 373 chamadas\n"
          ]
        }
      ],
      "source": [
        "\n",
        "# Pergunta 02: Qual o tipo de chamado que teve mais teve chamados abertos no dia 01/04/2023?\n",
        "if not df_1_5.empty:\n",
        "    tipo_chamado_count = (\n",
        "        df_1_5.groupby(\"tipo\")[\"id_chamado\"]\n",
        "        .count()\n",
        "        .sort_values(ascending=False)\n",
        "    )\n",
        "    tipo_chamado = tipo_chamado_count.index[0]\n",
        "    respostas[\"pergunta_02\"] = (tipo_chamado, tipo_chamado_count.iloc[0])\n",
        "else:\n",
        "    respostas[\"pergunta_02\"] = None\n",
        "print(f'2) Qual o tipo de chamado que teve mais teve chamados abertos no dia 01/04/2023?\\n\"{tipo_chamado}\" com {tipo_chamado_count.iloc[0]} chamadas')"
      ]
    },
    {
      "cell_type": "code",
      "execution_count": null,
      "metadata": {},
      "outputs": [
        {
          "name": "stdout",
          "output_type": "stream",
          "text": [
            "3) Quais os nomes dos 3 bairros que mais tiveram chamados abertos nesse dia?\n",
            "\"Campo Grande\" com 124 chamadas\n",
            "\"Tijuca\" com 96 chamadas\n",
            "\"Barra da Tijuca\" com 60 chamadas\n"
          ]
        }
      ],
      "source": [
        "# Pergunta 03: Quais os nomes dos 3 bairros que mais tiveram chamados abertos nesse dia?\n",
        "if not df_1_5.empty:\n",
        "    bairro_chamado_count = (\n",
        "        df_1_5.groupby(\"bairro\")[\"id_chamado\"]\n",
        "        .count()\n",
        "        .sort_values(ascending=False)\n",
        "        .head(3)\n",
        "    )\n",
        "    resp_3 = list(bairro_chamado_count.items())\n",
        "    respostas[\"pergunta_03\"] = resp_3\n",
        "else:\n",
        "    respostas[\"pergunta_03\"] = []\n",
        "\n",
        "print(f'3) Quais os nomes dos 3 bairros que mais tiveram chamados abertos nesse dia?')\n",
        "for i, j in resp_3:\n",
        "    print(f'\"{i}\" com {j} chamadas')"
      ]
    },
    {
      "cell_type": "code",
      "execution_count": null,
      "metadata": {},
      "outputs": [
        {
          "name": "stdout",
          "output_type": "stream",
          "text": [
            "4) Qual o nome da subprefeitura com mais chamados abertos nesse dia? \n",
            " \"Zona Norte\" com 534 chamadas\n"
          ]
        }
      ],
      "source": [
        "# Pergunta 04: Qual o nome da subprefeitura com mais chamados abertos nesse dia?\n",
        "if not df_1_5.empty:\n",
        "    subprefeitura_chamado_count = (\n",
        "        df_1_5.groupby(\"subprefeitura\")[\"id_chamado\"]\n",
        "        .count()\n",
        "        .sort_values(ascending=False)\n",
        "    )\n",
        "    subprefeitura_chamado = subprefeitura_chamado_count.index[0]\n",
        "    respostas[\"pergunta_04\"] = (subprefeitura_chamado,\n",
        "                                subprefeitura_chamado_count.iloc[0])\n",
        "else:\n",
        "    respostas[\"pergunta_04\"] = None\n",
        "print(f'4) Qual o nome da subprefeitura com mais chamados abertos nesse dia? \\n \"{subprefeitura_chamado}\" com {subprefeitura_chamado_count.iloc[0]} chamadas')"
      ]
    },
    {
      "cell_type": "code",
      "execution_count": null,
      "metadata": {},
      "outputs": [
        {
          "name": "stdout",
          "output_type": "stream",
          "text": [
            "\n",
            "5) Existe algum chamado aberto nesse dia que não foi associado a um bairro ou subprefeitura na tabela de bairros?\n",
            "Se sim, por que isso acontece?\n",
            "Há 131 chamadas abertas sem associação a bairro e subprefeitura.\n",
            "Como não possuem vínculo com um id_bairro ou subprefeitura,\n",
            "logo podem corresponder a tipos independentes do espaço geográfico.\n",
            "Um exemplo seriam as demandas do atendimento ao cidadão, como dúvidas,\n",
            "sugestões ou notificações sobre erros e problemas em serviços digitais\n",
            "da prefeitura que não estão vinculadas a um local específico.\n"
          ]
        }
      ],
      "source": [
        "# Pergunta 05: Existe algum chamado aberto nesse dia que não foi associado a um bairro\n",
        "# ou subprefeitura na tabela de bairros? Se sim, por que isso acontece?\n",
        "chamados_null = df_1_5[\n",
        "    df_1_5[\"id_bairro\"].isnull() | df_1_5[\"subprefeitura\"].isnull()\n",
        "][\"id_chamado\"].count()\n",
        "respostas[\"pergunta_05\"] = chamados_null\n",
        "print(f\"\"\"\n",
        "5) Existe algum chamado aberto nesse dia que não foi associado a um bairro ou subprefeitura na tabela de bairros?\n",
        "Se sim, por que isso acontece?\n",
        "Há {chamados_null} chamadas abertas sem associação a bairro e subprefeitura.\n",
        "Como não possuem vínculo com um id_bairro ou subprefeitura,\n",
        "logo podem corresponder a tipos independentes do espaço geográfico.\n",
        "Um exemplo seriam as demandas do atendimento ao cidadão, como dúvidas,\n",
        "sugestões ou notificações sobre erros e problemas em serviços digitais\n",
        "da prefeitura que não estão vinculadas a um local específico.\"\"\")"
      ]
    },
    {
      "cell_type": "markdown",
      "metadata": {},
      "source": [
        "# Respostas das Perguntas 6 a 10"
      ]
    },
    {
      "cell_type": "code",
      "execution_count": null,
      "metadata": {},
      "outputs": [
        {
          "name": "stdout",
          "output_type": "stream",
          "text": [
            "\n",
            "6) Quantos chamados de \"Perturbação do sossego\" (id_subtipo=5071) foram abertos \n",
            "no período de 01/01/2022 até 31/12/2024?\n",
            "R: Foram 56785 chamados no total.\n",
            "\n"
          ]
        }
      ],
      "source": [
        "# Pergunta 06: Quantos chamados com o subtipo \"Perturbação do sossego\" \n",
        "# foram abertos desde 01/01/2022 até 31/12/2023 (incluindo extremidades)?\n",
        "resp_6 = df_6_10[\"id_chamado\"].nunique()  # .count() também seria aceitável caso não haja duplicados\n",
        "respostas[\"pergunta_06\"] = resp_6\n",
        "\n",
        "print(f\"\"\"\n",
        "6) Quantos chamados de \"Perturbação do sossego\" (id_subtipo=5071) foram abertos \n",
        "no período de 01/01/2022 até 31/12/2024?\n",
        "R: Foram {resp_6} chamados no total.\n",
        "\"\"\")"
      ]
    },
    {
      "cell_type": "code",
      "execution_count": null,
      "metadata": {},
      "outputs": [
        {
          "name": "stdout",
          "output_type": "stream",
          "text": [
            "\n",
            "7) Lista de chamados (id_subtipo=5071) que foram abertos durante \n",
            "os eventos (Réveillon, Carnaval, Rock in Rio):\n",
            "\n",
            "       id_chamado data_inicio id_subtipo     evento data_inicial  data_final\n",
            "180287   18076121  2022-12-30       5071  Réveillon   2022-12-30  2023-01-01\n",
            "180563   18077630  2022-12-30       5071  Réveillon   2022-12-30  2023-01-01\n",
            "180713   18075958  2022-12-30       5071  Réveillon   2022-12-30  2023-01-01\n",
            "180767   18078205  2022-12-30       5071  Réveillon   2022-12-30  2023-01-01\n",
            "181061   18076125  2022-12-30       5071  Réveillon   2022-12-30  2023-01-01\n"
          ]
        }
      ],
      "source": [
        "# Pergunta 07: Selecione os chamados com esse subtipo que foram abertos durante\n",
        "# os eventos contidos na tabela de eventos (Reveillon, Carnaval e Rock in Rio).\n",
        "\n",
        "# Faremos um \"merge vetorizado\" (cross join) e filtraremos pela condição de data\n",
        "df_cross = df_6_10.assign(key=1).merge(\n",
        "    df_eventos[[\"evento\", \"data_inicial\", \"data_final\"]].assign(key=1),\n",
        "    on=\"key\",\n",
        "    how=\"outer\"\n",
        ")\n",
        "\n",
        "# Filtrar chamados que caem no intervalo do evento\n",
        "chamados_eventos = df_cross[\n",
        "    (df_cross[\"data_inicio\"] >= df_cross[\"data_inicial\"]) &\n",
        "    (df_cross[\"data_inicio\"] <= df_cross[\"data_final\"])\n",
        "].copy()\n",
        "\n",
        "# Remover colunas auxiliares e possíveis duplicidades\n",
        "chamados_eventos.drop(columns=[\"key\"], inplace=True)\n",
        "chamados_eventos.drop_duplicates(subset=[\"id_chamado\", \"evento\"], inplace=True)\n",
        "\n",
        "respostas[\"pergunta_07\"] = chamados_eventos\n",
        "\n",
        "print(\"\"\"\n",
        "7) Lista de chamados (id_subtipo=5071) que foram abertos durante \n",
        "os eventos (Réveillon, Carnaval, Rock in Rio):\n",
        "\"\"\")\n",
        "print(chamados_eventos.head())"
      ]
    },
    {
      "cell_type": "code",
      "execution_count": null,
      "metadata": {},
      "outputs": [
        {
          "name": "stdout",
          "output_type": "stream",
          "text": [
            "\n",
            "8) Quantos chamados desse subtipo foram abertos em cada evento?\n",
            "\n",
            " - Evento \"Rock in Rio\": 946 chamados\n",
            " - Evento \"Carnaval\": 252 chamados\n",
            " - Evento \"Réveillon\": 147 chamados\n"
          ]
        }
      ],
      "source": [
        "# Pergunta 08: Quantos chamados desse subtipo foram abertos em cada evento?\n",
        "if not chamados_eventos.empty:\n",
        "    qtd_chamados_evento = (\n",
        "        chamados_eventos.groupby(\"evento\")[\"id_chamado\"]\n",
        "        .count()\n",
        "        .sort_values(ascending=False)\n",
        "    )\n",
        "    respostas[\"pergunta_08\"] = qtd_chamados_evento\n",
        "    print(\"\\n8) Quantos chamados desse subtipo foram abertos em cada evento?\\n\")\n",
        "    for evento, qtd in qtd_chamados_evento.items():\n",
        "        print(f' - Evento \"{evento}\": {qtd} chamados')\n",
        "else:\n",
        "    respostas[\"pergunta_08\"] = None\n",
        "    print(\"\\n8) Não houve chamados para nenhum evento.\\n\")"
      ]
    },
    {
      "cell_type": "code",
      "execution_count": null,
      "metadata": {},
      "outputs": [
        {
          "name": "stdout",
          "output_type": "stream",
          "text": [
            "\n",
            "9) Qual evento teve a maior média diária de chamados abertos?\n",
            "\n",
            "O evento 'Rock in Rio' apresentou a maior média diária de 135.14 chamados.\n"
          ]
        }
      ],
      "source": [
        "# Pergunta 09: Qual evento teve a maior média diária de chamados abertos desse subtipo?\n",
        "if not chamados_eventos.empty:\n",
        "    # Soma de chamados por evento\n",
        "    qtd_chamados_evento = chamados_eventos.groupby(\"evento\")[\"id_chamado\"].count()\n",
        "\n",
        "    # Soma de dias para cada evento (caso haja duplicação de períodos, agrupar por evento)\n",
        "    soma_dias_evento = (\n",
        "        df_eventos.drop_duplicates(subset=[\"evento\", \"data_inicial\", \"data_final\"])\n",
        "        .groupby(\"evento\")[\"dias_evento\"]\n",
        "        .sum()\n",
        "    )\n",
        "\n",
        "    # Média diária por evento = total de chamados no evento / total de dias do evento\n",
        "    med_dias_chamados = (qtd_chamados_evento / soma_dias_evento).sort_values(ascending=False)\n",
        "\n",
        "    # Qual evento teve a maior média\n",
        "    maior_media_evento = med_dias_chamados.head(1)\n",
        "    respostas[\"pergunta_09\"] = maior_media_evento\n",
        "\n",
        "    print(\"\\n9) Qual evento teve a maior média diária de chamados abertos?\\n\")\n",
        "    print(f\"O evento '{maior_media_evento.index[0]}' apresentou a maior média diária de \"\n",
        "          f\"{maior_media_evento.iloc[0]:.2f} chamados.\")\n",
        "else:\n",
        "    respostas[\"pergunta_09\"] = None\n",
        "    print(\"\\n9) Não foi possível calcular a média diária por evento, pois não há dados.\\n\")"
      ]
    },
    {
      "cell_type": "code",
      "execution_count": null,
      "metadata": {},
      "outputs": [
        {
          "name": "stdout",
          "output_type": "stream",
          "text": [
            "\n",
            "10) Comparando as médias diárias de chamados (id_subtipo=5071) nos eventos \n",
            "(Réveillon, Carnaval, Rock in Rio) versus a média diária em todo período \n",
            "01/01/2022 a 31/12/2024:\n",
            "\n",
            "Evento \"Rock in Rio\": média diária = 135.14 chamados; média total do período = 51.81 chamados.\n",
            "Evento \"Carnaval\": média diária = 28.00 chamados; média total do período = 51.81 chamados.\n",
            "Evento \"Réveillon\": média diária = 24.50 chamados; média total do período = 51.81 chamados.\n"
          ]
        }
      ],
      "source": [
        "# Pergunta 10: Compare as médias diárias de chamados abertos desse subtipo\n",
        "# durante os eventos específicos (Reveillon, Carnaval e Rock in Rio) e\n",
        "# a média diária de chamados abertos desse tipo considerando todo o\n",
        "# período de 01/01/2022 até 31/12/2023.\n",
        "if not df_6_10.empty:\n",
        "    # Dias totais no período (do 1º chamado ao último chamado do dataframe)\n",
        "    data_min = df_6_10[\"data_inicio\"].min()\n",
        "    data_max = df_6_10[\"data_inicio\"].max()\n",
        "    dias_periodo = (data_max - data_min).days + 1\n",
        "\n",
        "    # Média diária total (chamados / dias)\n",
        "    media_diaria_total = resp_6 / dias_periodo if dias_periodo else 0\n",
        "\n",
        "    # Se já calculamos med_dias_chamados no passo anterior:\n",
        "    if 'med_dias_chamados' in locals():\n",
        "        df_med_chamados = med_dias_chamados.to_frame(name=\"media_diaria_evento\")\n",
        "        df_med_chamados[\"media_diaria_total_periodo\"] = media_diaria_total\n",
        "        respostas[\"pergunta_10\"] = df_med_chamados\n",
        "    else:\n",
        "        # Caso não haja dados de eventos, salvamos apenas a média total\n",
        "        respostas[\"pergunta_10\"] = media_diaria_total\n",
        "\n",
        "    print(f\"\"\"\n",
        "10) Comparando as médias diárias de chamados (id_subtipo=5071) nos eventos \n",
        "(Réveillon, Carnaval, Rock in Rio) versus a média diária em todo período \n",
        "01/01/2022 a 31/12/2024:\n",
        "\"\"\")\n",
        "\n",
        "    if isinstance(respostas[\"pergunta_10\"], pd.DataFrame):\n",
        "        for evento, row in respostas[\"pergunta_10\"].iterrows():\n",
        "            print(f'Evento \"{evento}\": média diária = {row[\"media_diaria_evento\"]:.2f} chamados; '\n",
        "                  f'média total do período = {row[\"media_diaria_total_periodo\"]:.2f} chamados.')\n",
        "    else:\n",
        "        print(\"Não há dados de eventos para comparar. \"\n",
        "              f\"Apenas a média diária total do período: {respostas['pergunta_10']:.2f}\")\n",
        "else:\n",
        "    respostas[\"pergunta_10\"] = None\n",
        "    print(\"\\n10) Não há dados de chamados no dataframe para comparar.\\n\")"
      ]
    },
    {
      "cell_type": "code",
      "execution_count": null,
      "metadata": {},
      "outputs": [
        {
          "name": "stdout",
          "output_type": "stream",
          "text": [
            "Resposta da pergunta_01:\n",
            "1903\n",
            "--------------------------------------------------\n",
            "Resposta da pergunta_02:\n",
            "('Estacionamento irregular', 373)\n",
            "--------------------------------------------------\n",
            "Resposta da pergunta_03:\n",
            "[('Campo Grande', 124), ('Tijuca', 96), ('Barra da Tijuca', 60)]\n",
            "--------------------------------------------------\n",
            "Resposta da pergunta_04:\n",
            "('Zona Norte', 534)\n",
            "--------------------------------------------------\n",
            "Resposta da pergunta_05:\n",
            "131\n",
            "--------------------------------------------------\n",
            "Resposta da pergunta_06:\n",
            "56785\n",
            "--------------------------------------------------\n",
            "Resposta da pergunta_07:\n",
            "       id_chamado data_inicio id_subtipo     evento data_inicial  data_final\n",
            "180287   18076121  2022-12-30       5071  Réveillon   2022-12-30  2023-01-01\n",
            "180563   18077630  2022-12-30       5071  Réveillon   2022-12-30  2023-01-01\n",
            "180713   18075958  2022-12-30       5071  Réveillon   2022-12-30  2023-01-01\n",
            "180767   18078205  2022-12-30       5071  Réveillon   2022-12-30  2023-01-01\n",
            "181061   18076125  2022-12-30       5071  Réveillon   2022-12-30  2023-01-01\n",
            "...           ...         ...        ...        ...          ...         ...\n",
            "253715   18079707  2023-01-01       5071  Réveillon   2022-12-30  2023-01-01\n",
            "253973   18080382  2023-01-01       5071  Réveillon   2022-12-30  2023-01-01\n",
            "254069   18080319  2023-01-01       5071  Réveillon   2022-12-30  2023-01-01\n",
            "254369   18079895  2023-01-01       5071  Réveillon   2022-12-30  2023-01-01\n",
            "254375   18079616  2023-01-01       5071  Réveillon   2022-12-30  2023-01-01\n",
            "\n",
            "[1345 rows x 6 columns]\n",
            "--------------------------------------------------\n",
            "Resposta da pergunta_08:\n",
            "evento\n",
            "Rock in Rio    946\n",
            "Carnaval       252\n",
            "Réveillon      147\n",
            "Name: id_chamado, dtype: int64\n",
            "--------------------------------------------------\n",
            "Resposta da pergunta_09:\n",
            "evento\n",
            "Rock in Rio    135.142857\n",
            "dtype: float64\n",
            "--------------------------------------------------\n",
            "Resposta da pergunta_10:\n",
            "             media_diaria_evento  media_diaria_total_periodo\n",
            "evento                                                      \n",
            "Rock in Rio           135.142857                   51.811131\n",
            "Carnaval               28.000000                   51.811131\n",
            "Réveillon              24.500000                   51.811131\n",
            "--------------------------------------------------\n"
          ]
        }
      ],
      "source": [
        "# Print de todas as respostas esquematizadas\n",
        "for pergunta, resposta in respostas.items():\n",
        "    print(f\"Resposta da {pergunta}:\")\n",
        "    print(resposta)\n",
        "    print(\"-\" * 50)"
      ]
    }
  ],
  "metadata": {
    "colab": {
      "provenance": []
    },
    "kernelspec": {
      "display_name": "Python 3",
      "name": "python3"
    },
    "language_info": {
      "codemirror_mode": {
        "name": "ipython",
        "version": 3
      },
      "file_extension": ".py",
      "mimetype": "text/x-python",
      "name": "python",
      "nbconvert_exporter": "python",
      "pygments_lexer": "ipython3",
      "version": "3.12.2"
    }
  },
  "nbformat": 4,
  "nbformat_minor": 0
}
